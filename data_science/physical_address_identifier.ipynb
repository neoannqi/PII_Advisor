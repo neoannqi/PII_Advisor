{
 "cells": [
  {
   "cell_type": "code",
   "execution_count": 12,
   "metadata": {},
   "outputs": [],
   "source": [
    "import re"
   ]
  },
  {
   "cell_type": "code",
   "execution_count": 69,
   "metadata": {},
   "outputs": [],
   "source": [
    "addresses = {\n",
    "    1: 'Blk123 Choa Chu Kang Loop #02-34 S680341',\n",
    "    2: '133 Prince Charles Crescent, #55-12, Singapore 144033',\n",
    "    3: '''Ang Kian Hwee\n",
    "Blk123 Choa Chu Kang Loop #02-34 S680341 Email: angkianhwee@u.nus.edu EDUCATION\n",
    "National University of Singapore (NUS) Aug 2016 – present\n",
    "• Bachelor of Science (Business Analytics), Honours\n",
    "• 25 years old\n",
    "• NRIC: S1234567A\n",
    "• Relevant Coursework: Data Management and Chinese, Business and Technical Communication, Application Systems Development for Business Analytics, Regression Analysis, Data Structure & Algorithms (Python, Java), Mining Web Data for Business Insights, Operations Research, Capstone Project, Computational Methods for BA\n",
    "• Expected Date of Graduation: December 2019'''\n",
    "}"
   ]
  },
  {
   "cell_type": "code",
   "execution_count": 71,
   "metadata": {},
   "outputs": [
    {
     "name": "stdout",
     "output_type": "stream",
     "text": [
      "Input: Blk123 Choa Chu Kang Loop #02-34 S680341\n",
      ">>>>>>Identified: 123 Choa Chu Kang Loop #02-34 S680341\n",
      "\n",
      "Input: 133 Prince Charles Crescent, #55-12, Singapore 144033\n",
      ">>>>>>Identified: 133 Prince Charles Crescent, #55-12, Singapore 144033\n",
      "\n",
      "Input: Ang Kian Hwee\n",
      "Blk123 Choa Chu Kang Loop #02-34 S680341 Email: angkianhwee@u.nus.edu EDUCATION\n",
      "National University of Singapore (NUS) Aug 2016 – present\n",
      "• Bachelor of Science (Business Analytics), Honours\n",
      "• 25 years old\n",
      "• NRIC: S1234567A\n",
      "• Relevant Coursework: Data Management and Chinese, Business and Technical Communication, Application Systems Development for Business Analytics, Regression Analysis, Data Structure & Algorithms (Python, Java), Mining Web Data for Business Insights, Operations Research, Capstone Project, Computational Methods for BA\n",
      "• Expected Date of Graduation: December 2019\n",
      ">>>>>>Identified: 123 Choa Chu Kang Loop #02-34 S680341\n",
      "\n"
     ]
    }
   ],
   "source": [
    "for key in addresses:\n",
    "    search_obj = re.search('[\\d]+[\\s]?[\\D]{0,4}[\\s].+[#][\\d]+[-][\\d]+.+[Ss][\\D]*[\\d]{6}', addresses[key])\n",
    "    print('Input: {}'.format(addresses[key]))\n",
    "    print('>>>>>>Identified: {}'.format(search_obj.group()))\n",
    "    print()\n",
    "    \n",
    "# \\d+ one or more digit(s)\n",
    "# \\D{0,4} 0-4 letters\n",
    "# \\s whitespace\n",
    "# https://www.rexegg.com/regex-quickstart.html"
   ]
  },
  {
   "cell_type": "code",
   "execution_count": null,
   "metadata": {},
   "outputs": [],
   "source": []
  }
 ],
 "metadata": {
  "kernelspec": {
   "display_name": "Python 3",
   "language": "python",
   "name": "python3"
  },
  "language_info": {
   "codemirror_mode": {
    "name": "ipython",
    "version": 3
   },
   "file_extension": ".py",
   "mimetype": "text/x-python",
   "name": "python",
   "nbconvert_exporter": "python",
   "pygments_lexer": "ipython3",
   "version": "3.6.8"
  }
 },
 "nbformat": 4,
 "nbformat_minor": 4
}
